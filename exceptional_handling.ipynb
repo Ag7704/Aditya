{
  "nbformat": 4,
  "nbformat_minor": 0,
  "metadata": {
    "colab": {
      "provenance": [],
      "authorship_tag": "ABX9TyO4lIFk/g7gouclUrG4yC/m",
      "include_colab_link": true
    },
    "kernelspec": {
      "name": "python3",
      "display_name": "Python 3"
    },
    "language_info": {
      "name": "python"
    }
  },
  "cells": [
    {
      "cell_type": "markdown",
      "metadata": {
        "id": "view-in-github",
        "colab_type": "text"
      },
      "source": [
        "<a href=\"https://colab.research.google.com/github/Ag7704/Aditya/blob/main/exceptional_handling.ipynb\" target=\"_parent\"><img src=\"https://colab.research.google.com/assets/colab-badge.svg\" alt=\"Open In Colab\"/></a>"
      ]
    },
    {
      "cell_type": "code",
      "execution_count": null,
      "metadata": {
        "id": "rbgfCAYYnJf8"
      },
      "outputs": [],
      "source": [
        "#exeption => unwanted condition =>terminate\n",
        "#try\n",
        "#Except\n"
      ]
    },
    {
      "cell_type": "code",
      "source": [
        "x=10\n",
        "x+z\n",
        "print(\"hello\")"
      ],
      "metadata": {
        "colab": {
          "base_uri": "https://localhost:8080/",
          "height": 176
        },
        "id": "uZOlX770n_Pk",
        "outputId": "5f19f296-680b-40e3-84f7-96c139df0218"
      },
      "execution_count": null,
      "outputs": [
        {
          "output_type": "error",
          "ename": "NameError",
          "evalue": "name 'z' is not defined",
          "traceback": [
            "\u001b[0;31m---------------------------------------------------------------------------\u001b[0m",
            "\u001b[0;31mNameError\u001b[0m                                 Traceback (most recent call last)",
            "\u001b[0;32m<ipython-input-3-58a2a5ca48bf>\u001b[0m in \u001b[0;36m<cell line: 2>\u001b[0;34m()\u001b[0m\n\u001b[1;32m      1\u001b[0m \u001b[0mx\u001b[0m\u001b[0;34m=\u001b[0m\u001b[0;36m10\u001b[0m\u001b[0;34m\u001b[0m\u001b[0;34m\u001b[0m\u001b[0m\n\u001b[0;32m----> 2\u001b[0;31m \u001b[0mx\u001b[0m\u001b[0;34m+\u001b[0m\u001b[0mz\u001b[0m\u001b[0;34m\u001b[0m\u001b[0;34m\u001b[0m\u001b[0m\n\u001b[0m\u001b[1;32m      3\u001b[0m \u001b[0mprint\u001b[0m\u001b[0;34m(\u001b[0m\u001b[0;34m\"hello\"\u001b[0m\u001b[0;34m)\u001b[0m\u001b[0;34m\u001b[0m\u001b[0;34m\u001b[0m\u001b[0m\n",
            "\u001b[0;31mNameError\u001b[0m: name 'z' is not defined"
          ]
        }
      ]
    },
    {
      "cell_type": "code",
      "source": [
        "try:\n",
        "    x=10\n",
        "    x+10\n",
        "    print(\"hello\")\n",
        "except:\n",
        "    print(\"error\")"
      ],
      "metadata": {
        "colab": {
          "base_uri": "https://localhost:8080/"
        },
        "id": "14IUWej7oJJm",
        "outputId": "91685bc6-d249-4566-e948-98b0111a1121"
      },
      "execution_count": null,
      "outputs": [
        {
          "output_type": "stream",
          "name": "stdout",
          "text": [
            "hello\n"
          ]
        }
      ]
    },
    {
      "cell_type": "code",
      "source": [
        "#Exception class =. all the error are defined in it\n",
        "# snyntex error never handled"
      ],
      "metadata": {
        "id": "i9R2pWuooLwo"
      },
      "execution_count": null,
      "outputs": []
    },
    {
      "cell_type": "code",
      "source": [
        "try:\n",
        "    x=10\n",
        "    x/10\n",
        "    print(\"hello\")\n",
        "except (ZeroDivisionError ):\n",
        "  print(\"error\")\n",
        "else:\n",
        "    print(\"no error\")"
      ],
      "metadata": {
        "colab": {
          "base_uri": "https://localhost:8080/"
        },
        "id": "Pim3F4Adp1Yj",
        "outputId": "5837f430-389f-493f-ecde-494422b4c26c"
      },
      "execution_count": null,
      "outputs": [
        {
          "output_type": "stream",
          "name": "stdout",
          "text": [
            "hello\n",
            "no error\n"
          ]
        }
      ]
    },
    {
      "cell_type": "code",
      "source": [
        "def calculate_total(days):\n",
        "    values = [1,2,3,4,5,6,7]  # Assign a value for every day\n",
        "    total = 0\n",
        "    j = 0\n",
        "    v=0\n",
        "\n",
        "    for i in range(days):\n",
        "      j += values[i%7]\n",
        "      if i>7:\n",
        "        v = [x+1 for x in values]\n",
        "        print(v)\n",
        "     total += j,v\n",
        "    return total\n",
        "\n",
        "\n",
        "\n",
        "\n",
        "\n",
        "\n",
        "days = 8\n",
        "print(\"Total:\", calculate_total(days))"
      ],
      "metadata": {
        "colab": {
          "base_uri": "https://localhost:8080/",
          "height": 106
        },
        "id": "bMcWdgdjr0JV",
        "outputId": "2e7a1916-81c5-4491-9f92-b74dafe8f386"
      },
      "execution_count": null,
      "outputs": [
        {
          "output_type": "error",
          "ename": "IndentationError",
          "evalue": "unindent does not match any outer indentation level (<tokenize>, line 12)",
          "traceback": [
            "\u001b[0;36m  File \u001b[0;32m\"<tokenize>\"\u001b[0;36m, line \u001b[0;32m12\u001b[0m\n\u001b[0;31m    total += j,v\u001b[0m\n\u001b[0m    ^\u001b[0m\n\u001b[0;31mIndentationError\u001b[0m\u001b[0;31m:\u001b[0m unindent does not match any outer indentation level\n"
          ]
        }
      ]
    },
    {
      "cell_type": "code",
      "source": [
        "def calculate_total(days):\n",
        "    values = [10, 20, 30, 40, 50, 60, 70]  # Assign a value for every day\n",
        "    total = 0\n",
        "\n",
        "    for i in range(days):\n",
        "        total += values[i % 7]  # Use modulo operator to cycle through the values\n",
        "\n",
        "    return total\n",
        "\n",
        "days = int(input(\"Enter the number of days: \"))\n",
        "print(\"Total:\", calculate_total(days))"
      ],
      "metadata": {
        "id": "Z9GsQ1E7NPZq"
      },
      "execution_count": null,
      "outputs": []
    }
  ]
}