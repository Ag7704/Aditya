{
  "nbformat": 4,
  "nbformat_minor": 0,
  "metadata": {
    "colab": {
      "provenance": [],
      "authorship_tag": "ABX9TyOWCCd0chvmVGDgnygaIZ/t",
      "include_colab_link": true
    },
    "kernelspec": {
      "name": "python3",
      "display_name": "Python 3"
    },
    "language_info": {
      "name": "python"
    }
  },
  "cells": [
    {
      "cell_type": "markdown",
      "metadata": {
        "id": "view-in-github",
        "colab_type": "text"
      },
      "source": [
        "<a href=\"https://colab.research.google.com/github/Ag7704/aditya/blob/main/objects_and_class.ipynb\" target=\"_parent\"><img src=\"https://colab.research.google.com/assets/colab-badge.svg\" alt=\"Open In Colab\"/></a>"
      ]
    },
    {
      "cell_type": "code",
      "execution_count": null,
      "metadata": {
        "id": "dUeCy-L1ua7v"
      },
      "outputs": [],
      "source": [
        "#objects=> real time entity\n",
        "#class is a blueprint of object/ collection of objects\n",
        "#object is an instance of class\n"
      ]
    },
    {
      "cell_type": "code",
      "source": [
        "class house:\n",
        "  # class variable\n",
        "  color=\"white\"\n",
        "  room=4"
      ],
      "metadata": {
        "id": "v0wuJ1ZTvvDI"
      },
      "execution_count": null,
      "outputs": []
    },
    {
      "cell_type": "code",
      "source": [
        "#object\n",
        "h1=house()\n",
        "print(h1.color)\n",
        "print(h1.room)"
      ],
      "metadata": {
        "colab": {
          "base_uri": "https://localhost:8080/"
        },
        "id": "1GuM22Z0wD8g",
        "outputId": "a3b7e7bf-68c0-413d-d63f-3b86219af541"
      },
      "execution_count": null,
      "outputs": [
        {
          "output_type": "stream",
          "name": "stdout",
          "text": [
            "white\n",
            "4\n"
          ]
        }
      ]
    },
    {
      "cell_type": "code",
      "source": [
        "h2=house()\n",
        "print(h2.color,h2.room)\n"
      ],
      "metadata": {
        "colab": {
          "base_uri": "https://localhost:8080/"
        },
        "id": "XYvnWTRiwWNA",
        "outputId": "00d7df0d-94fe-4f7f-f0e7-b071d3f85fea"
      },
      "execution_count": null,
      "outputs": [
        {
          "output_type": "stream",
          "name": "stdout",
          "text": [
            "white 4\n"
          ]
        }
      ]
    },
    {
      "cell_type": "code",
      "source": [
        "class house:\n",
        "  # class variable\n",
        "  color=\"white\"\n",
        "  room=4\n",
        "  def info(self):\n",
        "    print(\"variable are\",self.color,self.room)"
      ],
      "metadata": {
        "id": "qKYeHzo_wbZT"
      },
      "execution_count": null,
      "outputs": []
    },
    {
      "cell_type": "code",
      "source": [
        "h10=house()\n",
        "h10.info()"
      ],
      "metadata": {
        "colab": {
          "base_uri": "https://localhost:8080/"
        },
        "id": "ctWUquRyxhEx",
        "outputId": "64ed0236-d2e5-4eed-aa18-75a4be6edaab"
      },
      "execution_count": null,
      "outputs": [
        {
          "output_type": "stream",
          "name": "stdout",
          "text": [
            "variable are white 4\n"
          ]
        }
      ]
    },
    {
      "cell_type": "code",
      "source": [
        "h10=house()\n",
        "h10.color=\"black\"\n",
        "h10.info()"
      ],
      "metadata": {
        "colab": {
          "base_uri": "https://localhost:8080/"
        },
        "id": "257R-U8YyDEv",
        "outputId": "1be2dab7-1ad3-4798-d7fc-9614aeb04d39"
      },
      "execution_count": null,
      "outputs": [
        {
          "output_type": "stream",
          "name": "stdout",
          "text": [
            "variable are black 4\n"
          ]
        }
      ]
    },
    {
      "cell_type": "code",
      "source": [
        "class house:\n",
        "  # constructor => function => object memory intialize\n",
        "  def __init__(self):\n",
        "    print(\"house to be created\")\n",
        "h1=house()"
      ],
      "metadata": {
        "colab": {
          "base_uri": "https://localhost:8080/"
        },
        "id": "kag006jXyJZr",
        "outputId": "7f58a9f8-4177-4dc5-ebc2-3d483b473899"
      },
      "execution_count": null,
      "outputs": [
        {
          "output_type": "stream",
          "name": "stdout",
          "text": [
            "house to be created\n"
          ]
        }
      ]
    },
    {
      "cell_type": "code",
      "source": [
        "class house:\n",
        "  # constructor => function => object memory intialize\n",
        "  def __init__(self,x,y):\n",
        "    self.color=x\n",
        "    self.room=y\n",
        "\n",
        "h1=house(\"black\",4)\n",
        "print(h1.color,h1.room)\n"
      ],
      "metadata": {
        "colab": {
          "base_uri": "https://localhost:8080/"
        },
        "id": "npxv1fX0zlNv",
        "outputId": "91129fcc-1644-4861-e761-e0fbef4605fc"
      },
      "execution_count": null,
      "outputs": [
        {
          "output_type": "stream",
          "name": "stdout",
          "text": [
            "black 4\n"
          ]
        }
      ]
    },
    {
      "cell_type": "code",
      "source": [
        "#inheritence\n"
      ],
      "metadata": {
        "id": "pBynT1_d1kjR"
      },
      "execution_count": null,
      "outputs": []
    },
    {
      "cell_type": "code",
      "source": [
        "#single inheritance\n",
        "class parents:\n",
        "  amount=50000\n",
        "class child(parents):\n",
        "  salary=10000\n",
        "\n",
        "\n",
        "c1=child()\n",
        "print(c1.amount)\n",
        "print(c1.salary)"
      ],
      "metadata": {
        "colab": {
          "base_uri": "https://localhost:8080/"
        },
        "id": "OjSxcZTp3Cbo",
        "outputId": "f2dd861d-26ea-4f93-d986-ef5f52341996"
      },
      "execution_count": null,
      "outputs": [
        {
          "output_type": "stream",
          "name": "stdout",
          "text": [
            "50000\n",
            "10000\n"
          ]
        }
      ]
    },
    {
      "cell_type": "code",
      "source": [
        "class Driver:\n",
        "  def __init__(self,name,Id):\n",
        "    self.name=name\n",
        "    self.Id=Id\n",
        "class customer(Driver):\n",
        "  def __init__(self,cname,cId):\n",
        "    super().__init__(cname,cId)\n",
        "\n",
        "c1=customer(\"aditya\",104)\n",
        "c1.name"
      ],
      "metadata": {
        "colab": {
          "base_uri": "https://localhost:8080/",
          "height": 35
        },
        "id": "omJRo7ri3fmD",
        "outputId": "453d71cb-c019-4d38-d22e-5512aaf39ebc"
      },
      "execution_count": null,
      "outputs": [
        {
          "output_type": "execute_result",
          "data": {
            "text/plain": [
              "'aditya'"
            ],
            "application/vnd.google.colaboratory.intrinsic+json": {
              "type": "string"
            }
          },
          "metadata": {},
          "execution_count": 24
        }
      ]
    }
  ]
}